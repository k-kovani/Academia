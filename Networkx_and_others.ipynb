{
  "nbformat": 4,
  "nbformat_minor": 0,
  "metadata": {
    "colab": {
      "name": "Networkx_and_others.ipynb",
      "provenance": [],
      "collapsed_sections": []
    },
    "kernelspec": {
      "name": "python3",
      "display_name": "Python 3"
    },
    "language_info": {
      "name": "python"
    }
  },
  "cells": [
    {
      "cell_type": "code",
      "execution_count": null,
      "metadata": {
        "colab": {
          "base_uri": "https://localhost:8080/"
        },
        "id": "dJ-4fXjsOdUs",
        "outputId": "37246714-f21c-40b1-bf8a-43baa1c02320"
      },
      "outputs": [
        {
          "output_type": "stream",
          "name": "stdout",
          "text": [
            "Mounted at /content/gdrive\n"
          ]
        }
      ],
      "source": [
        "# Mount notebook to google drive:\n",
        "\n",
        "from google.colab import drive\n",
        "drive.mount('/content/gdrive')"
      ]
    },
    {
      "cell_type": "code",
      "source": [
        "# Install Pytorch-Lightning, PyTorch Geometric and other packages:\n",
        "\n",
        "!pip install pytorch_lightning\n",
        "\n",
        "#TORCH = 1.11.0\n",
        "#CUDA = cu113\n",
        "\n",
        "!pip install torch-scatter -f https://data.pyg.org/whl/torch-1.11.0+cu113.html\n",
        "!pip install torch-sparse -f https://data.pyg.org/whl/torch-1.11.0+cu113.html\n",
        "!pip install torch-geometric"
      ],
      "metadata": {
        "id": "k4T2HhW_d8CY"
      },
      "execution_count": null,
      "outputs": []
    },
    {
      "cell_type": "code",
      "source": [
        "# Import NetworkX\n",
        "\n",
        "import networkx as nx\n",
        "import matplotlib.pyplot as plt"
      ],
      "metadata": {
        "id": "zam3eOChOmMH"
      },
      "execution_count": null,
      "outputs": []
    },
    {
      "cell_type": "code",
      "source": [
        "# PyTorch\n",
        "import pytorch_lightning as pl\n",
        "import torch\n",
        "from torch import Tensor\n",
        "import torch.nn as nn\n",
        "import torch.nn.functional as F\n",
        "import torch.optim as optim\n",
        "import torch_geometric.nn as geom_nn\n"
      ],
      "metadata": {
        "id": "374NOv8NQM6v"
      },
      "execution_count": null,
      "outputs": []
    },
    {
      "cell_type": "markdown",
      "source": [
        "Let’s take a minute and look at how one can create graphs using NetworkX. NetworkX is a Python package that can be used for creating graphs. Here is how you can use the package to create an empty graph with no nodes. "
      ],
      "metadata": {
        "id": "5f1WTXIjOzPD"
      }
    },
    {
      "cell_type": "code",
      "source": [
        "G = nx.Graph()\n",
        "\n",
        "# You can then add some nodes to the graph using the `add_nodes` function. \n",
        "G.add_nodes_from([2, 3])\n",
        "\n",
        "# Next, add some edges to the graph using the `add_edges_from` function. \n",
        "edges = [(2,1),(2,2),(3,2),(4,3),(6,4),(7,5),(14,5)]\n",
        "G.add_edges_from(edges)\n",
        "\n",
        "# The graph can be visualized using Matplotlib. That is done by calling the `draw` function and using Matpotlib to show the graph.\n",
        "nx.draw(G, with_labels=True, font_weight='bold')\n",
        "plt.show()"
      ],
      "metadata": {
        "id": "H0ckXd-IO00g"
      },
      "execution_count": null,
      "outputs": []
    },
    {
      "cell_type": "code",
      "source": [
        "# Do the same for simple graph in GNN_tutorial:\n",
        "G = nx.Graph()\n",
        "G.add_nodes_from([1, 2, 3, 4]) \n",
        "\n",
        "E = [(1 , 2), (2 ,3), (2, 4), (3, 4)]\n",
        "G.add_edges_from(E)\n",
        "\n",
        "nx.draw(G, with_labels=True, font_weight='bold')\n",
        "plt.show()"
      ],
      "metadata": {
        "id": "Qax87QM9P8aF"
      },
      "execution_count": null,
      "outputs": []
    },
    {
      "cell_type": "code",
      "source": [
        "# Create values for each node and store them in node_values:\n",
        "\n",
        "node_coords = Tensor([[1., 2., 3.],\n",
        "                      [2., 4., 6.],\n",
        "                      [0., 0., 1.],\n",
        "                      [1., 0., 0.]])\n",
        "\n",
        "node_colors = [\"blue\", \"green\", \"red\", \"yellow\"]\n",
        "\n",
        "\n",
        "print(node_coords.shape)\n",
        "print(node_coords[0])\n",
        "print(len(node_colors))\n",
        "print(node_colors[0])"
      ],
      "metadata": {
        "id": "Tp0Z80g4R16C"
      },
      "execution_count": null,
      "outputs": []
    },
    {
      "cell_type": "code",
      "source": [
        "# This time add atributes in Graph's nodes:\n",
        "\n",
        "Gv = nx.Graph()\n",
        "\n",
        "for i in range(4):\n",
        "  Gv.add_node(i, vertex = str(node_coords[i]), color = node_colors[i])\n",
        "\n",
        "Ev = [(1 , 2), (2 ,3), (2, 4), (3, 4)]\n",
        "Gv.add_edges_from(Ev)\n",
        "\n",
        "#nx.draw(Gv, with_labels=True, font_weight='bold')\n",
        "#plt.show()\n",
        "\n",
        "print(Gv.nodes[0][\"vertex\"], Gv.nodes[1][\"vertex\"], Gv.nodes[2][\"vertex\"], Gv.nodes[3][\"vertex\"])\n",
        "print(Gv.nodes[1][\"color\"])"
      ],
      "metadata": {
        "id": "dnffQKwVU4py"
      },
      "execution_count": null,
      "outputs": []
    },
    {
      "cell_type": "code",
      "source": [
        "# Create two different Graphs and store them in a list:\n",
        "\n",
        "G1 = Gv\n",
        "\n",
        "G2 = nx.Graph()\n",
        "G2.add_nodes_from([1, 2, 3, 4, 5])\n",
        "E2 = [(1 ,2), (1, 3), (2, 3), (2, 4), (2, 5), (4, 5)] \n",
        "G2.add_edges_from(E2)\n",
        "\n",
        "#nx.draw(G1, with_labels=True, font_weight='bold')\n",
        "#plt.show()\n",
        "#nx.draw(G2, with_labels=True, font_weight='bold')\n",
        "#plt.show()\n",
        "\n",
        "G_inp_list = [G1, G2]\n",
        "\n",
        "print(len(G_inp_list))\n",
        "print(G_inp_list[0])\n",
        "print(G_inp_list[1])"
      ],
      "metadata": {
        "id": "txvrKY8FZ4pn"
      },
      "execution_count": null,
      "outputs": []
    },
    {
      "cell_type": "code",
      "source": [
        "# Create example with edges_list in COO Format:\n",
        "\n",
        "# Node attributes:\n",
        "x = torch.tensor([[1., 2., 3.],\n",
        "                  [2., 4., 6.],\n",
        "                  [0., 0., 1.],\n",
        "                  [1., 0., 0.]], dtype=torch.float)\n",
        "\n",
        "# Node labels:\n",
        "y = torch.tensor([10, 11, 12, 13], dtype = torch.float)\n",
        "\n",
        "\n",
        "# Edge index in COO format:\n",
        "# 1st list contains source/origin node\n",
        "# 2nd list contains target/destination node\n",
        "edge_index = torch.tensor([[1, 2, 2, 3],\n",
        "                           [2, 3, 4, 4]], dtype=torch.long)\n",
        "\n",
        "\n",
        "\n",
        "# Graph in pytorch_geometric format and \n",
        "# visualization after converting it to networkx format:\n",
        "\n",
        "from torch_geometric.data import Data\n",
        "from torch_geometric.utils import to_networkx\n",
        "\n",
        "Graph = Data(edge_index=edge_index, x=x, y=y)\n",
        "print(Graph)\n",
        "\n",
        "g = to_networkx(Graph, to_undirected=True)\n",
        "nx.draw(g, with_labels=True, font_weight='bold')\n",
        "plt.show()"
      ],
      "metadata": {
        "id": "5b19ADJGkXXk",
        "colab": {
          "base_uri": "https://localhost:8080/",
          "height": 336
        },
        "outputId": "16606fc8-09bf-424c-e410-f6ba53f1f01b"
      },
      "execution_count": null,
      "outputs": [
        {
          "output_type": "stream",
          "name": "stdout",
          "text": [
            "Data(x=[4, 3], edge_index=[2, 4], y=[4])\n"
          ]
        },
        {
          "output_type": "display_data",
          "data": {
            "text/plain": [
              "<Figure size 432x288 with 1 Axes>"
            ],
            "image/png": "[encoded data removed]"
          },
          "metadata": {}
        }
      ]
    },
    {
      "cell_type": "markdown",
      "source": [
        "Create a simple Graph GNN model to visualize the input dimension etc:"
      ],
      "metadata": {
        "id": "-1Xwe4dacp2x"
      }
    },
    {
      "cell_type": "code",
      "source": [
        "gnn_layer_by_name = {\"GCN\": geom_nn.GCNConv, \"GAT\": geom_nn.GATConv, \"GraphConv\": geom_nn.GraphConv}"
      ],
      "metadata": {
        "id": "LmOnomkMsWfW"
      },
      "execution_count": null,
      "outputs": []
    },
    {
      "cell_type": "code",
      "source": [
        "class GNNModel(nn.Module):\n",
        "    def __init__(\n",
        "        self,\n",
        "        c_in,\n",
        "        c_hidden,\n",
        "        c_out,\n",
        "        num_layers=2,\n",
        "        layer_name=\"GCN\",\n",
        "        dp_rate=0.1,\n",
        "        **kwargs,\n",
        "    ):\n",
        "        \"\"\"\n",
        "        Args:\n",
        "            c_in: Dimension of input features\n",
        "            c_hidden: Dimension of hidden features\n",
        "            c_out: Dimension of the output features. Usually number of classes in classification\n",
        "            num_layers: Number of \"hidden\" graph layers\n",
        "            layer_name: String of the graph layer to use\n",
        "            dp_rate: Dropout rate to apply throughout the network\n",
        "            kwargs: Additional arguments for the graph layer (e.g. number of heads for GAT)\n",
        "        \"\"\"\n",
        "        super().__init__()\n",
        "        gnn_layer = gnn_layer_by_name[layer_name]\n",
        "\n",
        "        layers = []\n",
        "        in_channels, out_channels = c_in, c_hidden\n",
        "        for l_idx in range(num_layers - 1):\n",
        "            layers += [\n",
        "                gnn_layer(in_channels=in_channels, out_channels=out_channels, **kwargs),\n",
        "                nn.ReLU(inplace=True),\n",
        "                nn.Dropout(dp_rate),\n",
        "            ]\n",
        "            in_channels = c_hidden\n",
        "        layers += [gnn_layer(in_channels=in_channels, out_channels=c_out, **kwargs)]\n",
        "        self.layers = nn.ModuleList(layers)\n",
        "\n",
        "    def forward(self, x, edge_index):\n",
        "        \"\"\"\n",
        "        Args:\n",
        "            x: Input features per node\n",
        "            edge_index: List of vertex index pairs representing the edges in the graph (PyTorch geometric notation)\n",
        "        \"\"\"\n",
        "        for layer in self.layers:\n",
        "            # For graph layers, we need to add the \"edge_index\" tensor as additional input\n",
        "            # All PyTorch Geometric graph layer inherit the class \"MessagePassing\", hence\n",
        "            # we can simply check the class type.\n",
        "            if isinstance(layer, geom_nn.MessagePassing):\n",
        "                x = layer(x, edge_index)\n",
        "            else:\n",
        "                x = layer(x)\n",
        "        return x"
      ],
      "metadata": {
        "id": "eQdOioy2sDp0"
      },
      "execution_count": null,
      "outputs": []
    },
    {
      "cell_type": "code",
      "source": [
        "import torch\n",
        "from torch_geometric.data import Data\n",
        "## Create an undirected graph having three nodes (0, 1, 2).\n",
        "## Nodes 0 and 1 are connected; nodes 1 and 2 are connected (in both directions).\n",
        "## Each node has a single feature. These features are equal to\n",
        "## -1, 0, 1 for the three nodes respectively, in this order.\n",
        "edge_index = torch.tensor([[0, 1, 1, 2],\n",
        "                           [1, 0, 2, 1]], dtype=torch.long)\n",
        "x = torch.tensor([[-1], [0], [1]], dtype=torch.float)\n",
        "\n",
        "G1 = Data(x=x, edge_index=edge_index)"
      ],
      "metadata": {
        "id": "CyY5ZqYdvVbV"
      },
      "execution_count": null,
      "outputs": []
    },
    {
      "cell_type": "code",
      "source": [
        "# Atom types, ordered accroding to one-hot-encoding\n",
        "import pandas as pd\n",
        "\n",
        "MUT_LABEL_ENC = pd.Series(data = [\"C\",\"O\", \"Cl\",\"H\",\"N\",\"F\",\"Br\",\"S\",\"P\",\"I\",\"Na\",\"K\",\"Li\",\"Ca\"])\n",
        "print(\"Number of different elements: \", len(MUT_LABEL_ENC))\n",
        "\n",
        "# Define transform\n",
        "class AddSymbols(object):\n",
        "    \"\"\"\n",
        "    Add the symbol of the elements, from the atomic number, as a key of the graph\n",
        "    \"\"\"\n",
        "    def __call__(self, graph):\n",
        "        graph.symbols = MUT_LABEL_ENC.loc[graph.x.argmax(dim=-1)].values\n",
        "       \n",
        "        return graph"
      ],
      "metadata": {
        "colab": {
          "base_uri": "https://localhost:8080/"
        },
        "id": "KGf6piVLvfGb",
        "outputId": "dd31aef3-23fc-4208-913a-13b033b9ee5a"
      },
      "execution_count": null,
      "outputs": [
        {
          "output_type": "stream",
          "name": "stdout",
          "text": [
            "Number of different elements:  14\n"
          ]
        }
      ]
    },
    {
      "cell_type": "code",
      "source": [
        "from torch_geometric.datasets import TUDataset\n",
        "\n",
        "# Load the dataset\n",
        "dataset = TUDataset(\n",
        "    root=\".\", name=\"Mutagenicity\",\n",
        "    transform=AddSymbols(),\n",
        ").shuffle()"
      ],
      "metadata": {
        "colab": {
          "base_uri": "https://localhost:8080/"
        },
        "id": "gXR76_q6wAJX",
        "outputId": "a84532f9-a60c-4635-d3e8-a256248b35b1"
      },
      "execution_count": null,
      "outputs": [
        {
          "output_type": "stream",
          "name": "stderr",
          "text": [
            "Downloading https://www.chrsmrrs.com/graphkerneldatasets/Mutagenicity.zip\n",
            "Extracting ./Mutagenicity/Mutagenicity.zip\n",
            "Processing...\n",
            "Done!\n"
          ]
        }
      ]
    },
    {
      "cell_type": "code",
      "source": [
        "import numpy as np\n",
        "\n",
        "print(f'Dataset: {dataset}:')\n",
        "print('====================')\n",
        "print(f'Number of graphs: {len(dataset)}')\n",
        "print(f'Number of features: {dataset.num_features}')\n",
        "print(f'Number of classes: {dataset.num_classes}')\n",
        "print(f'Samples per class: {[ np.sum([1 for graph in dataset if graph.y == i ]) for i in range(dataset.num_classes) ]}')\n",
        "\n",
        "all_atoms = np.concatenate(\n",
        "    [graph.symbols for graph in dataset]\n",
        ")\n",
        "print(f\"{len(np.unique(all_atoms))} unique atoms: {np.unique(all_atoms)}\")"
      ],
      "metadata": {
        "colab": {
          "base_uri": "https://localhost:8080/"
        },
        "id": "KpjEXvMkwFkS",
        "outputId": "edb6a0a0-fbb3-4c49-cf4e-c69a5c66171d"
      },
      "execution_count": null,
      "outputs": [
        {
          "output_type": "stream",
          "name": "stdout",
          "text": [
            "Dataset: Mutagenicity(4337):\n",
            "====================\n",
            "Number of graphs: 4337\n",
            "Number of features: 14\n",
            "Number of classes: 2\n",
            "Samples per class: [2401, 1936]\n",
            "14 unique atoms: ['Br' 'C' 'Ca' 'Cl' 'F' 'H' 'I' 'K' 'Li' 'N' 'Na' 'O' 'P' 'S']\n"
          ]
        }
      ]
    },
    {
      "cell_type": "code",
      "source": [
        "G = dataset[0]  # Get the first graph object.\n",
        "print(G)\n",
        "# Gather some statistics about the first graph.\n",
        "print(f'Number of nodes: {G.num_nodes}')\n",
        "print(f'Number of edges: {G.num_edges}')\n",
        "print(f'Average node degree: {G.num_edges / G.num_nodes:.2f}')\n",
        "print(f'Contains isolated nodes: {G.has_isolated_nodes()}')\n",
        "print(f'Contains self-loops: {G.has_self_loops()}')\n",
        "print(f'Is undirected: {G.is_undirected()}')"
      ],
      "metadata": {
        "colab": {
          "base_uri": "https://localhost:8080/"
        },
        "id": "TkqTRTY2wPqh",
        "outputId": "e0eca4a4-77cc-49d3-9c0b-c631ac01ca0b"
      },
      "execution_count": null,
      "outputs": [
        {
          "output_type": "stream",
          "name": "stdout",
          "text": [
            "Data(edge_index=[2, 24], x=[13, 14], edge_attr=[24, 3], y=[1], symbols=[13])\n",
            "Number of nodes: 13\n",
            "Number of edges: 24\n",
            "Average node degree: 1.85\n",
            "Contains isolated nodes: False\n",
            "Contains self-loops: False\n",
            "Is undirected: True\n"
          ]
        }
      ]
    },
    {
      "cell_type": "code",
      "source": [
        "G = dataset[2]\n",
        "G_nx = to_networkx(G)\n",
        "nx.draw(G_nx)\n",
        "plt.show()"
      ],
      "metadata": {
        "colab": {
          "base_uri": "https://localhost:8080/",
          "height": 319
        },
        "id": "5WVT_QMkwh3V",
        "outputId": "2844ca3b-923d-4477-890c-aaa9f2937804"
      },
      "execution_count": null,
      "outputs": [
        {
          "output_type": "display_data",
          "data": {
            "text/plain": [
              "<Figure size 432x288 with 1 Axes>"
            ],
            "image/png": "[encoded data removed]"
          },
          "metadata": {}
        }
      ]
    }
  ]
}