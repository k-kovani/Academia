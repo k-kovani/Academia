{
  "nbformat": 4,
  "nbformat_minor": 0,
  "metadata": {
    "colab": {
      "provenance": [],
      "authorship_tag": "ABX9TyMtX4VD7MJ3CflUWj3DXpdo",
      "include_colab_link": true
    },
    "kernelspec": {
      "name": "python3",
      "display_name": "Python 3"
    },
    "language_info": {
      "name": "python"
    }
  },
  "cells": [
    {
      "cell_type": "markdown",
      "metadata": {
        "id": "view-in-github",
        "colab_type": "text"
      },
      "source": [
        "<a href=\"https://colab.research.google.com/github/k-kovani/Student_Projects/blob/main/GNN_regression.ipynb\" target=\"_parent\"><img src=\"https://colab.research.google.com/assets/colab-badge.svg\" alt=\"Open In Colab\"/></a>"
      ]
    },
    {
      "cell_type": "code",
      "execution_count": null,
      "metadata": {
        "id": "l4pN7XR78GJ3"
      },
      "outputs": [],
      "source": [
        "import torch\n",
        "from torch_geometric.data import Data, Dataset, DataLoader\n",
        "from torch_geometric.nn import GCNConv\n",
        "import torch.nn.functional as F\n",
        "import pytorch_lightning as pl\n",
        "from torch.utils.data import random_split\n",
        "\n",
        "class GraphDataset(Dataset):\n",
        "    def __init__(self, input_graphs, target_graphs):\n",
        "        self.input_graphs = input_graphs\n",
        "        self.target_graphs = target_graphs\n",
        "\n",
        "    def len(self):\n",
        "        return len(self.input_graphs)\n",
        "\n",
        "    def get(self, idx):\n",
        "        return self.input_graphs[idx], self.target_graphs[idx]\n",
        "\n",
        "class GNN(pl.LightningModule):\n",
        "    def __init__(self, input_dim, hidden_dim, output_dim):\n",
        "        super(GNN, self).__init__()\n",
        "        self.conv1 = GCNConv(input_dim, hidden_dim)\n",
        "        self.conv2 = GCNConv(hidden_dim, hidden_dim)\n",
        "        self.conv3 = GCNConv(hidden_dim, output_dim)\n",
        "\n",
        "    def forward(self, x, edge_index):\n",
        "        x = F.relu(self.conv1(x, edge_index))\n",
        "        x = F.relu(self.conv2(x, edge_index))\n",
        "        x = self.conv3(x, edge_index)\n",
        "        return x\n",
        "\n",
        "    def training_step(self, batch, batch_idx):\n",
        "        input_graph, target_graph = batch\n",
        "        output = self(input_graph.x, input_graph.edge_index)\n",
        "        loss = F.mse_loss(output, target_graph.x)\n",
        "        self.log('train_loss', loss)\n",
        "        return loss\n",
        "\n",
        "    def configure_optimizers(self):\n",
        "        return torch.optim.Adam(self.parameters(), lr=0.01)\n",
        "\n",
        "class GraphDataModule(pl.LightningDataModule):\n",
        "    def __init__(self, dataset, batch_size=32):\n",
        "        super().__init__()\n",
        "        self.dataset = dataset\n",
        "        self.batch_size = batch_size\n",
        "\n",
        "    def setup(self, stage=None):\n",
        "        train_size = int(0.8 * len(self.dataset))\n",
        "        val_size = len(self.dataset) - train_size\n",
        "        self.train_dataset, self.val_dataset = random_split(self.dataset, [train_size, val_size])\n",
        "\n",
        "    def train_dataloader(self):\n",
        "        return DataLoader(self.train_dataset, batch_size=self.batch_size, shuffle=True)\n",
        "\n",
        "    def val_dataloader(self):\n",
        "        return DataLoader(self.val_dataset, batch_size=self.batch_size)\n",
        "\n",
        "# Example data (replace with your actual data)\n",
        "input_graphs = [Data(x=torch.randn(10, 16), edge_index=torch.randint(0, 10, (2, 20))) for _ in range(100)]\n",
        "target_graphs = [Data(x=torch.randn(10, 16), edge_index=torch.randint(0, 10, (2, 20))) for _ in range(100)]\n",
        "dataset = GraphDataset(input_graphs, target_graphs)\n",
        "\n",
        "# Initialize model, data module, and trainer\n",
        "model = GNN(input_dim=16, hidden_dim=32, output_dim=16)\n",
        "data_module = GraphDataModule(dataset)\n",
        "trainer = pl.Trainer(max_epochs=100)\n",
        "\n",
        "# Train the model\n",
        "trainer.fit(model, data_module)"
      ]
    }
  ]
}