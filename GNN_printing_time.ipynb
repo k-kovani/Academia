{
  "nbformat": 4,
  "nbformat_minor": 0,
  "metadata": {
    "colab": {
      "name": "GNN_printing_time.ipynb",
      "provenance": [],
      "collapsed_sections": []
    },
    "kernelspec": {
      "name": "python3",
      "display_name": "Python 3"
    },
    "language_info": {
      "name": "python"
    },
    "gpuClass": "standard",
    "accelerator": "GPU"
  },
  "cells": [
    {
      "cell_type": "code",
      "execution_count": null,
      "metadata": {
        "id": "D-IVktftr8X-"
      },
      "outputs": [],
      "source": [
        "# Mount notebook to google drive: \n",
        "\n",
        "from google.colab import drive\n",
        "drive.mount('/content/gdrive')"
      ]
    },
    {
      "cell_type": "code",
      "source": [
        "# Install required packages.\n",
        "import os\n",
        "import torch\n",
        "os.environ['TORCH'] = torch.__version__\n",
        "print(torch.__version__)\n",
        "\n",
        "!pip install -q torch-scatter -f https://data.pyg.org/whl/torch-${TORCH}.html\n",
        "!pip install -q torch-sparse -f https://data.pyg.org/whl/torch-${TORCH}.html\n",
        "!pip install -q git+https://github.com/pyg-team/pytorch_geometric.git"
      ],
      "metadata": {
        "id": "mggDBGtIsG2v"
      },
      "execution_count": null,
      "outputs": []
    },
    {
      "cell_type": "code",
      "source": [
        "!pip install pytorch-lightning\n",
        "!pip install trimesh"
      ],
      "metadata": {
        "id": "HEXXR7jSsO1y"
      },
      "execution_count": null,
      "outputs": []
    },
    {
      "cell_type": "code",
      "source": [
        "import pandas as pd\n",
        "import numpy as np\n",
        "from torch.utils.data import Dataset\n",
        "from torch.utils.data import DataLoader\n",
        "import torch\n",
        "from torch.nn import functional as F\n",
        "from torchmetrics import Accuracy\n",
        "from torch.utils.data import Dataset\n",
        "from torch.utils.data import DataLoader\n",
        "from sklearn import preprocessing\n",
        "from enum import Enum \n",
        "from torch import Tensor\n",
        "import torch_sparse\n",
        "import matplotlib.pyplot as plt\n",
        "import trimesh\n",
        "import time\n",
        "import os\n",
        "import random\n",
        "import networkx as nx\n",
        "import matplotlib.pyplot as plt\n",
        "from torch_geometric.data import Data\n",
        "from torch_geometric.utils import to_networkx\n",
        "from bokeh.palettes import Magma10\n",
        "import os\n",
        "import trimesh\n",
        "from pytorch_lightning import LightningModule, Trainer\n",
        "from torch import nn\n",
        "import torch_geometric\n",
        "from sklearn.preprocessing import StandardScaler\n",
        "import re"
      ],
      "metadata": {
        "id": "NQWoX2cNsW_z"
      },
      "execution_count": 4,
      "outputs": []
    },
    {
      "cell_type": "code",
      "source": [
        "# Create mesh dataset:\n",
        "\n",
        "mesh_path = './gdrive/Shared drives/JG0AAF901 Kyklos 4.0/Working/ML_dataset/cadquery_random_shapes/random_objects' \n",
        "\n",
        "mesh_dataset = []\n",
        "mesh_names = []\n",
        "\n",
        "for filename in os.listdir(mesh_path):\n",
        "\n",
        "  if filename.endswith('.stl'):\n",
        "    \n",
        "    # Store the names of each loaded part:\n",
        "    n_txt = filename\n",
        "    n_num = [float(n) for n in re.findall(\"[-+]?[.]?[\\d]+(?:,\\d\\d\\d)*[\\.]?\\d*(?:[eE][-+]?\\d+)?\", n_txt)]\n",
        "    mesh_names.append(int(n_num[0]))\n",
        "\n",
        "    # Load meshes in trimesh:\n",
        "    mesh = trimesh.load(f'{mesh_path}/{filename}')\n",
        "    mesh_dataset.append(mesh)\n",
        "\n",
        "  if len(mesh_dataset) == 25000:\n",
        "   break\n",
        "\n",
        "# Create mesh dictionary {filename: mesh}:\n",
        "mesh_dict = {}\n",
        "for i in range(len(mesh_names)):\n",
        "  mesh_dict[f'{mesh_names[i]}'] = mesh_dataset[i]"
      ],
      "metadata": {
        "id": "qYfI70-cstGr"
      },
      "execution_count": 51,
      "outputs": []
    },
    {
      "cell_type": "code",
      "source": [
        "# Show an exmaple:\n",
        "\n",
        "mesh_dataset[1763].show()"
      ],
      "metadata": {
        "id": "ySPpXO1ts0W4"
      },
      "execution_count": null,
      "outputs": []
    },
    {
      "cell_type": "code",
      "source": [
        "# Calculate printing times and normalize them:\n",
        "# Create final mesh dataset:\n",
        "import re\n",
        "\n",
        "pt_path = './gdrive/Shared drives/JG0AAF901 Kyklos 4.0/Working/ML_dataset/printing_duration_random_objects_3.csv' \n",
        "pt_data = pd.read_csv(pt_path)[' printing_time']\n",
        "pt_names = pd.read_csv(pt_path)['filepath']\n",
        "\n",
        "\n",
        "\" -- Create a list that contains part names -- \"\n",
        "part_names = []\n",
        "for i in range(len(pt_names)):\n",
        "    n_txt = pt_names[i][51:]\n",
        "    n_num = [float(n) for n in re.findall(\"[-+]?[.]?[\\d]+(?:,\\d\\d\\d)*[\\.]?\\d*(?:[eE][-+]?\\d+)?\", n_txt)]\n",
        "    part_names.append(int(n_num[0]))\n",
        "\n",
        "\n",
        "\n",
        "# Create printing time dictionary:\n",
        "pt_dict = {}\n",
        "for i in range(len(part_names)):\n",
        "  pt_dict[f'{part_names[i]}'] = pt_data[i]\n",
        "  \n"
      ],
      "metadata": {
        "id": "W6Qna9pTzyB0"
      },
      "execution_count": 80,
      "outputs": []
    },
    {
      "cell_type": "code",
      "source": [
        "m_ds = []\n",
        "pt_ds = []\n",
        "\n",
        "for i in range(len(part_names)):\n",
        "\n",
        "  for j in range(len(mesh_names)):\n",
        "    \n",
        "    if part_names[i] == mesh_names[j]:\n",
        "\n",
        "      pt_ds.append(pt_dict[str(part_names[i])])\n",
        "      m_ds.append(mesh_dict[str(mesh_names[j])])"
      ],
      "metadata": {
        "id": "oe1WpkO2EQuJ"
      },
      "execution_count": 81,
      "outputs": []
    },
    {
      "cell_type": "code",
      "source": [
        "print(m_ds[0], pt_ds[0])"
      ],
      "metadata": {
        "id": "TwufN3LfBh6L"
      },
      "execution_count": null,
      "outputs": []
    },
    {
      "cell_type": "code",
      "source": [
        "# Calculate printing times and normalize them:\n",
        "# Create final mesh dataset:\n",
        "\n",
        "\n",
        "print(np.min(pt_ds))\n",
        "print(np.max(pt_ds))\n",
        "\n",
        "thres1 = 5000\n",
        "thres2 = np.max(pt_ds) / 1.5\n",
        "print(\"thres1: \", thres1)\n",
        "print(\"thres2: \", thres2)\n",
        "\n",
        "mesh_ds = []\n",
        "pts = []\n",
        "volumes = []\n",
        "for i in range(len(m_ds)):\n",
        "\n",
        "  if pt_ds[i] >= thres1 and pt_ds[i] <= thres2:\n",
        "    pts.append(pt_ds[i])\n",
        "    mesh_ds.append(m_ds[i])\n",
        "    vols = m_ds[i].volume\n",
        "    volumes.append(vols)\n",
        "\n",
        "\n",
        "norm_pts = []\n",
        "for p in pts:\n",
        "\n",
        "  norm_p = p / np.max(pts)\n",
        "  norm_pts.append(norm_p)\n",
        "\n",
        "norm_vols = []\n",
        "for v in volumes:\n",
        "    norm_v = v / np.max(volumes)\n",
        "    norm_vols.append(norm_v)\n",
        "\n",
        "# Check min-max of normalized data (must be in (0,1))\n",
        "print(np.max(norm_pts))\n",
        "print(np.min(norm_pts))"
      ],
      "metadata": {
        "colab": {
          "base_uri": "https://localhost:8080/"
        },
        "id": "DE2Tt_ZW7q2H",
        "outputId": "8b4d6d65-e93e-43e5-b5c4-50750494d4ce"
      },
      "execution_count": 125,
      "outputs": [
        {
          "output_type": "stream",
          "name": "stdout",
          "text": [
            "2292\n",
            "19344\n",
            "thres1:  5000\n",
            "thres2:  12896.0\n",
            "1.0\n",
            "0.38800992709787496\n"
          ]
        }
      ]
    },
    {
      "cell_type": "code",
      "source": [
        "import matplotlib.pyplot as plt\n",
        "\n",
        "\n",
        "plt.scatter(norm_pts, norm_vols, marker='.')\n",
        "plt.xlabel(\"Printing Time\")\n",
        "plt.ylabel(\"Volume\")\n",
        "plt.title(\"Volume vs Printing time\")\n",
        "plt.show()"
      ],
      "metadata": {
        "colab": {
          "base_uri": "https://localhost:8080/",
          "height": 295
        },
        "id": "-5OWV0VtHK11",
        "outputId": "d3e0cef1-ed4d-43a3-b552-f14dc08a21da"
      },
      "execution_count": 126,
      "outputs": [
        {
          "output_type": "display_data",
          "data": {
            "text/plain": [
              "<Figure size 432x288 with 1 Axes>"
            ],
            "image/png": "[encoded data removed]"
          },
          "metadata": {
            "needs_background": "light"
          }
        }
      ]
    },
    {
      "cell_type": "code",
      "source": [
        "print(len(pt_ds))\n",
        "print(len(m_ds))\n",
        "print(len(norm_pts))\n",
        "print(len(mesh_ds))"
      ],
      "metadata": {
        "colab": {
          "base_uri": "https://localhost:8080/"
        },
        "id": "DiTyZezC7BW1",
        "outputId": "2160df4f-1a42-43dd-d7bb-d22061ebce64"
      },
      "execution_count": 127,
      "outputs": [
        {
          "output_type": "stream",
          "name": "stdout",
          "text": [
            "5018\n",
            "5018\n",
            "4297\n",
            "4297\n"
          ]
        }
      ]
    },
    {
      "cell_type": "code",
      "source": [
        "# Visualize data:\n",
        "\n",
        "import matplotlib.pyplot as plt\n",
        "\n",
        "x = np.linspace(0, len(norm_pts), len(norm_pts))\n",
        "plt.scatter(x, norm_pts, marker='.')\n",
        "#plt.ylim(0, 0.005)\n",
        "plt.show()"
      ],
      "metadata": {
        "id": "T4GYTxSF3wdY",
        "colab": {
          "base_uri": "https://localhost:8080/",
          "height": 265
        },
        "outputId": "68c11da4-b93a-46cd-9453-f664d546f1fe"
      },
      "execution_count": 128,
      "outputs": [
        {
          "output_type": "display_data",
          "data": {
            "text/plain": [
              "<Figure size 432x288 with 1 Axes>"
            ],
            "image/png": "[encoded data removed]"
          },
          "metadata": {
            "needs_background": "light"
          }
        }
      ]
    },
    {
      "cell_type": "code",
      "source": [
        "# Calculate vertices MIN/ MAX value:\n",
        "\n",
        "vertices = []\n",
        "max_verts = []\n",
        "min_verts = []\n",
        "for mesh in mesh_ds:\n",
        "  verts = mesh.vertices\n",
        "  vertices.append(verts)\n",
        "  max_verts.append(np.max(verts))\n",
        "  min_verts.append(np.min(verts))\n",
        "\n",
        "MAX = np.max(max_verts)\n",
        "MIN = np.min(min_verts)\n",
        "print(MAX)\n",
        "print(MIN)"
      ],
      "metadata": {
        "id": "QXPyKh5I33k4"
      },
      "execution_count": null,
      "outputs": []
    },
    {
      "cell_type": "code",
      "source": [
        "# Normalize vertices:\n",
        "\n",
        "norm_vertices = []\n",
        "max_norm_vert = []\n",
        "for v in vertices:\n",
        "  norm_v = (v - MIN) / (MAX - MIN) \n",
        "  norm_vertices.append(norm_v)\n",
        "  max_norm_vert.append(np.max(norm_v))\n",
        "\n",
        "\n",
        "# Check min-max of normalized data (must be in (0,1))\n",
        "print(np.max(max_norm_vert))\n",
        "print(np.min(max_norm_vert))"
      ],
      "metadata": {
        "id": "90Ecw4ds4JF0"
      },
      "execution_count": null,
      "outputs": []
    },
    {
      "cell_type": "code",
      "source": [
        "# Custom Dataset Class\n",
        "## Needs ATLEAST 3 class methods\n",
        "## __init__, __len__, __getitem__\n",
        "\n",
        "class CustomDataset(Dataset):\n",
        "    \n",
        "    import torch_geometric.data\n",
        "    from torch_geometric.data import Data\n",
        "    \n",
        "\n",
        "\n",
        "    # This loads the data and converts it, make data rdy\n",
        "    def __init__(self, dataset, prts):\n",
        "        \n",
        "        self.x_list = []\n",
        "        self.edge_index_list = []\n",
        "        self.y_list = []\n",
        "\n",
        "\n",
        "        for mesh in dataset:\n",
        "          # node_attributes:\n",
        "          x = torch.from_numpy(np.array(((mesh.vertices - MIN) / (MAX - MIN)))).to(torch.float)  \n",
        "          self.x_list.append(x)\n",
        "          # edge_index:\n",
        "          edge_index = torch.from_numpy(mesh.edges).to(torch.long).t().contiguous()\n",
        "          self.edge_index_list.append(edge_index)\n",
        "         \n",
        "\n",
        "        for pt in prts:  \n",
        "          # volume:\n",
        "          y=torch.from_numpy(np.array(pt)).float()\n",
        "          self.y_list.append(y)\n",
        "\n",
        "        # Create Data\n",
        "        self.data_list = []\n",
        "        for i in range(len(self.y_list)):\n",
        "          data = Data(x=self.x_list[i], edge_index=self.edge_index_list[i], y=self.y_list[i])\n",
        "          self.data_list.append(data)\n",
        "\n",
        "        # Create dataset:\n",
        "        self.graph_ds = torch_geometric.data.Batch.from_data_list(self.data_list)\n",
        "        self.num_node_features = len(self.x_list[0][0])\n",
        "  \n",
        "             \n",
        "    \n",
        "    # This returns the total amount of samples in your Dataset\n",
        "    def __len__(self):\n",
        "        return len(self.graph_ds)\n",
        "    \n",
        "    # This returns given an index the i-th sample and label\n",
        "    def __getitem__(self, idx):\n",
        "        return self.graph_ds[idx]"
      ],
      "metadata": {
        "id": "ixzte0CkdfAe"
      },
      "execution_count": 131,
      "outputs": []
    },
    {
      "cell_type": "code",
      "source": [
        "# Create our dataset:\n",
        "\n",
        "dataset=CustomDataset(dataset=mesh_ds, prts=norm_pts)\n",
        "\n",
        "print(len(dataset))"
      ],
      "metadata": {
        "id": "1z0wschp4bZ6"
      },
      "execution_count": null,
      "outputs": []
    },
    {
      "cell_type": "code",
      "source": [
        "# Print some information about the dataset\n",
        "\n",
        "print()\n",
        "print(f'Dataset: {dataset}:')\n",
        "print('====================')\n",
        "print(f'Number of graphs: {len(dataset)}')\n",
        "print(f'Number of features: {dataset.num_node_features}')\n",
        "\n",
        "\n",
        "\n",
        "data = dataset[0]  # Get the first graph object.\n",
        "\n",
        "print()\n",
        "print(data)\n",
        "print('=============================================================')\n",
        "\n",
        "# Gather some statistics about the first graph.\n",
        "print(f'Number of nodes: {data.num_nodes}')\n",
        "print(f'Number of edges: {data.num_edges}')\n",
        "print(f'Average node degree: {data.num_edges / data.num_nodes:.2f}')\n",
        "print(f'Has isolated nodes: {data.has_isolated_nodes()}')\n",
        "print(f'Has self-loops: {data.has_self_loops()}')\n",
        "print(f'Is undirected: {data.is_undirected()}')"
      ],
      "metadata": {
        "id": "XVEPbIlydjYC"
      },
      "execution_count": null,
      "outputs": []
    },
    {
      "cell_type": "code",
      "source": [
        "# Split dataset for training , validation and testing\n",
        "\n",
        "train_dataset = dataset[:3900]\n",
        "val_dataset = dataset[3900:4200]\n",
        "test_dataset = dataset[4200:]\n",
        "\n",
        "print(f'Number of training graphs: {len(train_dataset)}')\n",
        "print(f'Number of validation graphs: {len(val_dataset)}')\n",
        "print(f'Number of test graphs: {len(test_dataset)}')"
      ],
      "metadata": {
        "id": "S58UYpBMdmeF",
        "colab": {
          "base_uri": "https://localhost:8080/"
        },
        "outputId": "571f07f1-cac5-4e8c-8fe8-3982a678a312"
      },
      "execution_count": 135,
      "outputs": [
        {
          "output_type": "stream",
          "name": "stdout",
          "text": [
            "Number of training graphs: 3900\n",
            "Number of validation graphs: 300\n",
            "Number of test graphs: 97\n"
          ]
        }
      ]
    },
    {
      "cell_type": "code",
      "source": [
        "# Create DataLoaders:\n",
        "\n",
        "from torch_geometric.loader import DataLoader\n",
        "\n",
        "train_loader = DataLoader(train_dataset, batch_size=100, shuffle=True)\n",
        "val_loader = DataLoader(val_dataset, batch_size=64, shuffle=False)\n",
        "#test_loader = DataLoader(test_dataset, batch_size=10, shuffle=False)\n",
        "\n",
        "for step, data in enumerate(train_loader):\n",
        "    print(f'Step {step + 1}:')\n",
        "    print('=======')\n",
        "    print(f'Number of graphs in the current batch: {data.num_graphs}')\n",
        "    print(data)\n",
        "    print()"
      ],
      "metadata": {
        "id": "1NJlUibBdpML",
        "colab": {
          "base_uri": "https://localhost:8080/"
        },
        "outputId": "9746b9d3-d280-405e-8b9f-e5cb40f88977"
      },
      "execution_count": 156,
      "outputs": [
        {
          "output_type": "stream",
          "name": "stdout",
          "text": [
            "Step 1:\n",
            "=======\n",
            "Number of graphs in the current batch: 100\n",
            "DataBatch(x=[32424, 3], edge_index=[2, 194172], y=[100], batch=[32424], ptr=[101])\n",
            "\n",
            "Step 2:\n",
            "=======\n",
            "Number of graphs in the current batch: 100\n",
            "DataBatch(x=[30802, 3], edge_index=[2, 184488], y=[100], batch=[30802], ptr=[101])\n",
            "\n",
            "Step 3:\n",
            "=======\n",
            "Number of graphs in the current batch: 100\n",
            "DataBatch(x=[31911, 3], edge_index=[2, 191118], y=[100], batch=[31911], ptr=[101])\n",
            "\n",
            "Step 4:\n",
            "=======\n",
            "Number of graphs in the current batch: 100\n",
            "DataBatch(x=[30503, 3], edge_index=[2, 182682], y=[100], batch=[30503], ptr=[101])\n",
            "\n",
            "Step 5:\n",
            "=======\n",
            "Number of graphs in the current batch: 100\n",
            "DataBatch(x=[31787, 3], edge_index=[2, 190386], y=[100], batch=[31787], ptr=[101])\n",
            "\n",
            "Step 6:\n",
            "=======\n",
            "Number of graphs in the current batch: 100\n",
            "DataBatch(x=[31327, 3], edge_index=[2, 187614], y=[100], batch=[31327], ptr=[101])\n",
            "\n",
            "Step 7:\n",
            "=======\n",
            "Number of graphs in the current batch: 100\n",
            "DataBatch(x=[32300, 3], edge_index=[2, 193416], y=[100], batch=[32300], ptr=[101])\n",
            "\n",
            "Step 8:\n",
            "=======\n",
            "Number of graphs in the current batch: 100\n",
            "DataBatch(x=[31970, 3], edge_index=[2, 191436], y=[100], batch=[31970], ptr=[101])\n",
            "\n",
            "Step 9:\n",
            "=======\n",
            "Number of graphs in the current batch: 100\n",
            "DataBatch(x=[30490, 3], edge_index=[2, 182604], y=[100], batch=[30490], ptr=[101])\n",
            "\n",
            "Step 10:\n",
            "=======\n",
            "Number of graphs in the current batch: 100\n",
            "DataBatch(x=[30703, 3], edge_index=[2, 183870], y=[100], batch=[30703], ptr=[101])\n",
            "\n",
            "Step 11:\n",
            "=======\n",
            "Number of graphs in the current batch: 100\n",
            "DataBatch(x=[30502, 3], edge_index=[2, 182712], y=[100], batch=[30502], ptr=[101])\n",
            "\n",
            "Step 12:\n",
            "=======\n",
            "Number of graphs in the current batch: 100\n",
            "DataBatch(x=[32734, 3], edge_index=[2, 195984], y=[100], batch=[32734], ptr=[101])\n",
            "\n",
            "Step 13:\n",
            "=======\n",
            "Number of graphs in the current batch: 100\n",
            "DataBatch(x=[32118, 3], edge_index=[2, 192444], y=[100], batch=[32118], ptr=[101])\n",
            "\n",
            "Step 14:\n",
            "=======\n",
            "Number of graphs in the current batch: 100\n",
            "DataBatch(x=[31776, 3], edge_index=[2, 190296], y=[100], batch=[31776], ptr=[101])\n",
            "\n",
            "Step 15:\n",
            "=======\n",
            "Number of graphs in the current batch: 100\n",
            "DataBatch(x=[30579, 3], edge_index=[2, 182739], y=[100], batch=[30579], ptr=[101])\n",
            "\n",
            "Step 16:\n",
            "=======\n",
            "Number of graphs in the current batch: 100\n",
            "DataBatch(x=[32669, 3], edge_index=[2, 195642], y=[100], batch=[32669], ptr=[101])\n",
            "\n",
            "Step 17:\n",
            "=======\n",
            "Number of graphs in the current batch: 100\n",
            "DataBatch(x=[31864, 3], edge_index=[2, 190824], y=[100], batch=[31864], ptr=[101])\n",
            "\n",
            "Step 18:\n",
            "=======\n",
            "Number of graphs in the current batch: 100\n",
            "DataBatch(x=[31199, 3], edge_index=[2, 186762], y=[100], batch=[31199], ptr=[101])\n",
            "\n",
            "Step 19:\n",
            "=======\n",
            "Number of graphs in the current batch: 100\n",
            "DataBatch(x=[30658, 3], edge_index=[2, 183696], y=[100], batch=[30658], ptr=[101])\n",
            "\n",
            "Step 20:\n",
            "=======\n",
            "Number of graphs in the current batch: 100\n",
            "DataBatch(x=[32176, 3], edge_index=[2, 192564], y=[100], batch=[32176], ptr=[101])\n",
            "\n",
            "Step 21:\n",
            "=======\n",
            "Number of graphs in the current batch: 100\n",
            "DataBatch(x=[30818, 3], edge_index=[2, 184644], y=[100], batch=[30818], ptr=[101])\n",
            "\n",
            "Step 22:\n",
            "=======\n",
            "Number of graphs in the current batch: 100\n",
            "DataBatch(x=[31698, 3], edge_index=[2, 189708], y=[100], batch=[31698], ptr=[101])\n",
            "\n",
            "Step 23:\n",
            "=======\n",
            "Number of graphs in the current batch: 100\n",
            "DataBatch(x=[31146, 3], edge_index=[2, 186564], y=[100], batch=[31146], ptr=[101])\n",
            "\n",
            "Step 24:\n",
            "=======\n",
            "Number of graphs in the current batch: 100\n",
            "DataBatch(x=[31772, 3], edge_index=[2, 190260], y=[100], batch=[31772], ptr=[101])\n",
            "\n",
            "Step 25:\n",
            "=======\n",
            "Number of graphs in the current batch: 100\n",
            "DataBatch(x=[30597, 3], edge_index=[2, 183318], y=[100], batch=[30597], ptr=[101])\n",
            "\n",
            "Step 26:\n",
            "=======\n",
            "Number of graphs in the current batch: 100\n",
            "DataBatch(x=[31947, 3], edge_index=[2, 191334], y=[100], batch=[31947], ptr=[101])\n",
            "\n",
            "Step 27:\n",
            "=======\n",
            "Number of graphs in the current batch: 100\n",
            "DataBatch(x=[33025, 3], edge_index=[2, 197694], y=[100], batch=[33025], ptr=[101])\n",
            "\n",
            "Step 28:\n",
            "=======\n",
            "Number of graphs in the current batch: 100\n",
            "DataBatch(x=[31181, 3], edge_index=[2, 186774], y=[100], batch=[31181], ptr=[101])\n",
            "\n",
            "Step 29:\n",
            "=======\n",
            "Number of graphs in the current batch: 100\n",
            "DataBatch(x=[31979, 3], edge_index=[2, 191466], y=[100], batch=[31979], ptr=[101])\n",
            "\n",
            "Step 30:\n",
            "=======\n",
            "Number of graphs in the current batch: 100\n",
            "DataBatch(x=[31005, 3], edge_index=[2, 185682], y=[100], batch=[31005], ptr=[101])\n",
            "\n",
            "Step 31:\n",
            "=======\n",
            "Number of graphs in the current batch: 100\n",
            "DataBatch(x=[29790, 3], edge_index=[2, 178380], y=[100], batch=[29790], ptr=[101])\n",
            "\n",
            "Step 32:\n",
            "=======\n",
            "Number of graphs in the current batch: 100\n",
            "DataBatch(x=[31251, 3], edge_index=[2, 187074], y=[100], batch=[31251], ptr=[101])\n",
            "\n",
            "Step 33:\n",
            "=======\n",
            "Number of graphs in the current batch: 100\n",
            "DataBatch(x=[31259, 3], edge_index=[2, 187266], y=[100], batch=[31259], ptr=[101])\n",
            "\n",
            "Step 34:\n",
            "=======\n",
            "Number of graphs in the current batch: 100\n",
            "DataBatch(x=[33898, 3], edge_index=[2, 202980], y=[100], batch=[33898], ptr=[101])\n",
            "\n",
            "Step 35:\n",
            "=======\n",
            "Number of graphs in the current batch: 100\n",
            "DataBatch(x=[31869, 3], edge_index=[2, 190746], y=[100], batch=[31869], ptr=[101])\n",
            "\n",
            "Step 36:\n",
            "=======\n",
            "Number of graphs in the current batch: 100\n",
            "DataBatch(x=[31107, 3], edge_index=[2, 186282], y=[100], batch=[31107], ptr=[101])\n",
            "\n",
            "Step 37:\n",
            "=======\n",
            "Number of graphs in the current batch: 100\n",
            "DataBatch(x=[31237, 3], edge_index=[2, 186954], y=[100], batch=[31237], ptr=[101])\n",
            "\n",
            "Step 38:\n",
            "=======\n",
            "Number of graphs in the current batch: 100\n",
            "DataBatch(x=[30835, 3], edge_index=[2, 184782], y=[100], batch=[30835], ptr=[101])\n",
            "\n",
            "Step 39:\n",
            "=======\n",
            "Number of graphs in the current batch: 100\n",
            "DataBatch(x=[33211, 3], edge_index=[2, 198822], y=[100], batch=[33211], ptr=[101])\n",
            "\n"
          ]
        }
      ]
    },
    {
      "cell_type": "code",
      "source": [
        "# For downloading pre-trained models\n",
        "import urllib.request\n",
        "from urllib.error import HTTPError\n",
        "\n",
        "# PyTorch Lightning\n",
        "import pytorch_lightning as pl\n",
        "\n",
        "# PyTorch\n",
        "import torch\n",
        "import torch.nn as nn\n",
        "import torch.nn.functional as F\n",
        "import torch.optim as optim\n",
        "\n",
        "# PyTorch geometric\n",
        "import torch_geometric\n",
        "import torch_geometric.data as geom_data\n",
        "import torch_geometric.nn as geom_nn\n",
        "\n",
        "# PL callbacks\n",
        "from pytorch_lightning.callbacks import ModelCheckpoint\n",
        "from torch import Tensor\n",
        "\n",
        "AVAIL_GPUS = min(1, torch.cuda.device_count())\n",
        "BATCH_SIZE = 50\n",
        "# Path to the folder where the datasets are/should be downloaded\n",
        "DATASET_PATH = os.environ.get(\"PATH_DATASETS\", \"data/\")\n",
        "# Path to the folder where the pretrained models are saved\n",
        "CHECKPOINT_PATH = os.environ.get(\"PATH_CHECKPOINT\", \"saved_models/GNNs/\")\n",
        "\n",
        "# Setting the seed\n",
        "pl.seed_everything(42)"
      ],
      "metadata": {
        "id": "3lcLCez9dp2o"
      },
      "execution_count": null,
      "outputs": []
    },
    {
      "cell_type": "code",
      "source": [
        "# Import GNN layers by name:\n",
        "\n",
        "gnn_layer_by_name = {\"GCN\": geom_nn.GCNConv, \"GAT\": geom_nn.GATConv, \"GraphConv\": geom_nn.GraphConv}"
      ],
      "metadata": {
        "id": "TGsjEJj1FLA7"
      },
      "execution_count": 68,
      "outputs": []
    },
    {
      "cell_type": "code",
      "source": [
        "class GNNModel(nn.Module):\n",
        "    def __init__(\n",
        "        self,\n",
        "        c_in,\n",
        "        c_hidden,\n",
        "        c_out,\n",
        "        num_layers=2,\n",
        "        layer_name=\"GCN\",\n",
        "        dp_rate=0.1,\n",
        "        **kwargs,\n",
        "    ):\n",
        "        \"\"\"\n",
        "        Args:\n",
        "            c_in: Dimension of input features\n",
        "            c_hidden: Dimension of hidden features\n",
        "            c_out: Dimension of the output features. Usually number of classes in classification\n",
        "            num_layers: Number of \"hidden\" graph layers\n",
        "            layer_name: String of the graph layer to use\n",
        "            dp_rate: Dropout rate to apply throughout the network\n",
        "            kwargs: Additional arguments for the graph layer (e.g. number of heads for GAT)\n",
        "        \"\"\"\n",
        "        super().__init__()\n",
        "        gnn_layer = gnn_layer_by_name[layer_name]\n",
        "\n",
        "        layers = []\n",
        "        in_channels, out_channels = c_in, c_hidden\n",
        "        for l_idx in range(num_layers - 1):\n",
        "            layers += [\n",
        "                gnn_layer(in_channels=in_channels, out_channels=out_channels, **kwargs),\n",
        "                nn.ReLU(inplace=True),\n",
        "                nn.Dropout(dp_rate),\n",
        "            ]\n",
        "            in_channels = c_hidden\n",
        "        layers += [gnn_layer(in_channels=in_channels, out_channels=c_out, **kwargs)]\n",
        "        self.layers = nn.ModuleList(layers)\n",
        "\n",
        "    def forward(self, x, edge_index):\n",
        "        \"\"\"\n",
        "        Args:\n",
        "            x: Input features per node\n",
        "            edge_index: List of vertex index pairs representing the edges in the graph (PyTorch geometric notation)\n",
        "        \"\"\"\n",
        "        for layer in self.layers:\n",
        "            # For graph layers, we need to add the \"edge_index\" tensor as additional input\n",
        "            # All PyTorch Geometric graph layer inherit the class \"MessagePassing\", hence\n",
        "            # we can simply check the class type.\n",
        "            if isinstance(layer, geom_nn.MessagePassing):\n",
        "                x = layer(x, edge_index)\n",
        "            else:\n",
        "                x = layer(x)\n",
        "        return x"
      ],
      "metadata": {
        "id": "NRofazmpmwLP"
      },
      "execution_count": 69,
      "outputs": []
    },
    {
      "cell_type": "code",
      "source": [
        "class GraphGNNModel(nn.Module):\n",
        "    def __init__(self, c_in, c_hidden, c_out, dp_rate_linear=0.5, **kwargs):\n",
        "        \"\"\"\n",
        "        Args:\n",
        "            c_in: Dimension of input features\n",
        "            c_hidden: Dimension of hidden features\n",
        "            c_out: Dimension of output features (usually number of classes)\n",
        "            dp_rate_linear: Dropout rate before the linear layer (usually much higher than inside the GNN)\n",
        "            kwargs: Additional arguments for the GNNModel object\n",
        "        \"\"\"\n",
        "        super().__init__()\n",
        "        self.GNN = GNNModel(c_in=c_in, c_hidden=c_hidden, c_out=c_hidden, **kwargs)  # Not our prediction output yet!\n",
        "        self.head = nn.Sequential(nn.Dropout(dp_rate_linear), nn.Linear(c_hidden, c_out))\n",
        "\n",
        "    def forward(self, x, edge_index, batch_idx):\n",
        "        \"\"\"\n",
        "        Args:\n",
        "            x: Input features per node\n",
        "            edge_index: List of vertex index pairs representing the edges in the graph (PyTorch geometric notation)\n",
        "            batch_idx: Index of batch element for each node\n",
        "        \"\"\"\n",
        "        x = self.GNN(x, edge_index)\n",
        "        x = geom_nn.global_mean_pool(x, batch_idx)  # Average pooling\n",
        "        x = self.head(x)\n",
        "        x = torch.sigmoid(x)\n",
        "        return x"
      ],
      "metadata": {
        "id": "1Y5QtDJSmjET"
      },
      "execution_count": 70,
      "outputs": []
    },
    {
      "cell_type": "code",
      "source": [
        "class GraphLevelGNN(pl.LightningModule):\n",
        "    def __init__(self, **model_kwargs):\n",
        "        super().__init__()\n",
        "        # Saving hyperparameters\n",
        "        self.save_hyperparameters()\n",
        "        \n",
        "        self.model = GraphGNNModel(**model_kwargs)\n",
        "\n",
        "    def forward(self, data, mode=\"train\"):\n",
        "        x, edge_index, batch_idx = data.x, data.edge_index, data.batch\n",
        "        x = self.model(x, edge_index, batch_idx)\n",
        "        x = x.squeeze(dim=-1) \n",
        "        return x\n",
        "  \n",
        "  \n",
        "    def training_step(self, data):\n",
        "\n",
        "        x_out = self.forward(data)\n",
        "        loss = nn.MSELoss(x_out, data.y)\n",
        "\n",
        "        # metrics here:\n",
        "        self.log(\"loss/train\", loss)\n",
        "\n",
        "        return loss\n",
        "\n",
        "\n",
        "    def validation_step(self, data, batch_idx):\n",
        "\n",
        "\n",
        "        x_out = self.forward(data)\n",
        "\n",
        "        loss = nn.MSELoss(x_out, data.y)\n",
        "\n",
        "        # metrics here:\n",
        "        self.log(\"loss/validation\", loss)\n",
        "\n",
        "        return loss\n",
        "\n",
        "\n",
        "    def configure_optimizers(self):\n",
        "        return torch.optim.Adam(self.parameters(), lr = 3e-4, weight_decay=0.0)"
      ],
      "metadata": {
        "id": "yFz6tmVwodQA"
      },
      "execution_count": 71,
      "outputs": []
    },
    {
      "cell_type": "code",
      "source": [
        "def evaluate(model, test_loader, save_results=True, tag=\"_default\", verbose=False):\n",
        "\n",
        "    # get test accuracy score:\n",
        "\n",
        "    my_device = \"cuda\" if torch.cuda.is_available() else \"cpu\"\n",
        "    criterion = torch.nn.MSELoss()\n",
        "\n",
        "    model.eval()\n",
        "    total_loss = 0\n",
        "    total_batches = 0\n",
        "\n",
        "    for batch in test_loader:\n",
        "\n",
        "        pred = model(batch.to(my_device))\n",
        "\n",
        "        loss = criterion(pred, batch.y.to(my_device))\n",
        "\n",
        "        total_loss += loss.detach()\n",
        "        total_batches += batch.batch.max()\n",
        "\n",
        "    test_loss = total_loss / total_batches\n",
        "\n",
        "    results = {\n",
        "        \"loss\": test_loss, \\\n",
        "        \"tag\": tag }\n",
        "\n",
        "    return results"
      ],
      "metadata": {
        "id": "wVwt3nraigHG"
      },
      "execution_count": 72,
      "outputs": []
    },
    {
      "cell_type": "code",
      "source": [
        "from torch.utils.tensorboard import SummaryWriter\n",
        "\n",
        "T_loss = []\n",
        "V_loss = []\n",
        "\n",
        "def train_model(model, train_loader, criterion, optimizer, num_epochs=1000, \\\n",
        "        verbose=True, val_loader=None, save_tag=\"default_run_\"):\n",
        "\n",
        "\n",
        "    ## call validation function and print progress at each epoch end\n",
        "    display_every = 1 #num_epochs // 10\n",
        "    my_device = \"cuda\" if torch.cuda.is_available() else \"cpu\"\n",
        "    model.to(my_device)\n",
        "\n",
        "    # we'll log progress to tensorboard\n",
        "    log_dir = f\"lightning_logs/plain_model_{str(int(time.time()))[-8:]}/\"\n",
        "    writer = SummaryWriter(log_dir=log_dir)\n",
        "\n",
        "    t0 = time.time()\n",
        "    for epoch in range(num_epochs):\n",
        "\n",
        "        total_loss = 0.0\n",
        "        batch_count = 0\n",
        "        for batch in train_loader:\n",
        "            optimizer.zero_grad()\n",
        "\n",
        "            pred = model(batch.to(my_device))\n",
        "            loss = criterion(pred, batch.y.to(my_device))\n",
        "            loss.backward()\n",
        "\n",
        "            optimizer.step()\n",
        "\n",
        "            total_loss += loss.detach()\n",
        "            batch_count += 1\n",
        "\n",
        "        mean_loss = total_loss / batch_count\n",
        "        \n",
        "\n",
        "        writer.add_scalar(\"loss/train\", mean_loss, epoch)\n",
        "\n",
        "        if epoch % display_every == 0:\n",
        "            train_results = evaluate(model, train_loader, \\\n",
        "            tag=f\"train_ckpt_{epoch}_\", verbose=True)\n",
        "            train_loss = train_results[\"loss\"]\n",
        "            \n",
        "      \n",
        "\n",
        "        if val_loader is not None:\n",
        "            val_results = evaluate(model, val_loader, \\\n",
        "            tag=f\"val_ckpt_{epoch}_\", verbose=True)\n",
        "            val_loss = val_results[\"loss\"]\n",
        "          \n",
        "            \n",
        "            \n",
        "        T_loss.append(train_loss)\n",
        "        V_loss.append(val_loss)\n",
        "\n",
        "        \n",
        "        print(f\"Epoch: {epoch},  Train loss: {train_loss},  Val_loss: {val_loss}\")\n"
      ],
      "metadata": {
        "id": "BDbMLhu-hbDJ"
      },
      "execution_count": 73,
      "outputs": []
    },
    {
      "cell_type": "code",
      "source": [
        "\n",
        "model = GraphLevelGNN(c_in=3, c_hidden=128, c_out=1)\n",
        "lr = 1e-3\n",
        "num_epochs = 100\n",
        "\n",
        "criterion = torch.nn.MSELoss(reduction=\"sum\")\n",
        "optimizer = torch.optim.Adam(model.parameters(), lr=lr)\n",
        "\n",
        "train_model(model, train_loader, criterion, optimizer,\\\n",
        "          num_epochs=num_epochs, verbose=True, \\\n",
        "          val_loader=val_loader)"
      ],
      "metadata": {
        "colab": {
          "base_uri": "https://localhost:8080/"
        },
        "id": "lgH6xzNF_i9w",
        "outputId": "3b20ffdc-3818-44a3-b698-59de21798bb5"
      },
      "execution_count": 158,
      "outputs": [
        {
          "output_type": "stream",
          "name": "stdout",
          "text": [
            "Epoch: 0,  Train loss: 0.00025257986271753907,  Val_loss: 0.00043984095100313425\n",
            "Epoch: 1,  Train loss: 0.00024865599698387086,  Val_loss: 0.00043324200669303536\n",
            "Epoch: 2,  Train loss: 0.0002481198462191969,  Val_loss: 0.0004323978500906378\n",
            "Epoch: 3,  Train loss: 0.00024641037452965975,  Val_loss: 0.0004295938997529447\n",
            "Epoch: 4,  Train loss: 0.00024579837918281555,  Val_loss: 0.0004286617913749069\n",
            "Epoch: 5,  Train loss: 0.0002452483749948442,  Val_loss: 0.0004279670538380742\n",
            "Epoch: 6,  Train loss: 0.00024218682665377855,  Val_loss: 0.00042303692316636443\n",
            "Epoch: 7,  Train loss: 0.0002409240696579218,  Val_loss: 0.0004212629864923656\n",
            "Epoch: 8,  Train loss: 0.00023582408903166652,  Val_loss: 0.00041319773299619555\n",
            "Epoch: 9,  Train loss: 0.00023186314501799643,  Val_loss: 0.0004070888680871576\n",
            "Epoch: 10,  Train loss: 0.0002251422411063686,  Val_loss: 0.0003967185621149838\n",
            "Epoch: 11,  Train loss: 0.00022339978022500873,  Val_loss: 0.0003953399136662483\n",
            "Epoch: 12,  Train loss: 0.00021210600971244276,  Val_loss: 0.00037739260005764663\n",
            "Epoch: 13,  Train loss: 0.00021553694386966527,  Val_loss: 0.00038551969919353724\n",
            "Epoch: 14,  Train loss: 0.0002026711154030636,  Val_loss: 0.0003647641569841653\n",
            "Epoch: 15,  Train loss: 0.0001993990590563044,  Val_loss: 0.000361494516255334\n",
            "Epoch: 16,  Train loss: 0.00020343236974440515,  Val_loss: 0.0003679199726320803\n",
            "Epoch: 17,  Train loss: 0.0001952411694219336,  Val_loss: 0.0003565650258678943\n",
            "Epoch: 18,  Train loss: 0.00019325372704770416,  Val_loss: 0.0003543516795616597\n",
            "Epoch: 19,  Train loss: 0.0001984614646062255,  Val_loss: 0.00036399849341250956\n",
            "Epoch: 20,  Train loss: 0.00018736398487817496,  Val_loss: 0.0003456455306150019\n",
            "Epoch: 21,  Train loss: 0.00019069670815952122,  Val_loss: 0.0003521037579048425\n",
            "Epoch: 22,  Train loss: 0.00018622689822223037,  Val_loss: 0.0003462579916231334\n",
            "Epoch: 23,  Train loss: 0.00019274190708529204,  Val_loss: 0.00035596161615103483\n",
            "Epoch: 24,  Train loss: 0.00018743968394119292,  Val_loss: 0.0003483811451587826\n",
            "Epoch: 25,  Train loss: 0.00018516719865147024,  Val_loss: 0.00034510064870119095\n",
            "Epoch: 26,  Train loss: 0.00018699454085435718,  Val_loss: 0.000348884699633345\n",
            "Epoch: 27,  Train loss: 0.00018453177472110838,  Val_loss: 0.0003452664823271334\n",
            "Epoch: 28,  Train loss: 0.00018583174096420407,  Val_loss: 0.0003473354736343026\n",
            "Epoch: 29,  Train loss: 0.0001834583090385422,  Val_loss: 0.00034441761090420187\n",
            "Epoch: 30,  Train loss: 0.00018302637909073383,  Val_loss: 0.0003433247620705515\n",
            "Epoch: 31,  Train loss: 0.00018519989680498838,  Val_loss: 0.00034781990689225495\n",
            "Epoch: 32,  Train loss: 0.00018218548211734742,  Val_loss: 0.00034141598735004663\n",
            "Epoch: 33,  Train loss: 0.0001845773367676884,  Val_loss: 0.0003445369366090745\n",
            "Epoch: 34,  Train loss: 0.00018540980818215758,  Val_loss: 0.00034639984369277954\n",
            "Epoch: 35,  Train loss: 0.0001815387513488531,  Val_loss: 0.0003423938760533929\n",
            "Epoch: 36,  Train loss: 0.00018203559739049524,  Val_loss: 0.00034380468423478305\n",
            "Epoch: 37,  Train loss: 0.00018208171240985394,  Val_loss: 0.00034237559884786606\n",
            "Epoch: 38,  Train loss: 0.00018258122145198286,  Val_loss: 0.000344454194419086\n",
            "Epoch: 39,  Train loss: 0.00018053942767437547,  Val_loss: 0.00033983885077759624\n",
            "Epoch: 40,  Train loss: 0.0001806220388971269,  Val_loss: 0.00034058044548146427\n",
            "Epoch: 41,  Train loss: 0.00018156450823880732,  Val_loss: 0.0003414841485209763\n",
            "Epoch: 42,  Train loss: 0.00018059342983178794,  Val_loss: 0.00034204209805466235\n",
            "Epoch: 43,  Train loss: 0.00018255067698191851,  Val_loss: 0.00034516036976128817\n",
            "Epoch: 44,  Train loss: 0.00017987284809350967,  Val_loss: 0.0003390999627299607\n",
            "Epoch: 45,  Train loss: 0.0001788139488780871,  Val_loss: 0.00033896719105541706\n",
            "Epoch: 46,  Train loss: 0.00018052206723950803,  Val_loss: 0.00034230854362249374\n",
            "Epoch: 47,  Train loss: 0.00018501980230212212,  Val_loss: 0.0003475295670796186\n",
            "Epoch: 48,  Train loss: 0.0001832349953474477,  Val_loss: 0.00034475798020139337\n",
            "Epoch: 49,  Train loss: 0.00017770343401934952,  Val_loss: 0.00033715186873450875\n",
            "Epoch: 50,  Train loss: 0.00017926670261658728,  Val_loss: 0.0003396471147425473\n",
            "Epoch: 51,  Train loss: 0.00017821727669797838,  Val_loss: 0.00033779325895011425\n",
            "Epoch: 52,  Train loss: 0.00017936086806003004,  Val_loss: 0.00034113830770365894\n",
            "Epoch: 53,  Train loss: 0.00017786021635401994,  Val_loss: 0.0003366232558619231\n",
            "Epoch: 54,  Train loss: 0.0001768043584888801,  Val_loss: 0.0003352317144162953\n",
            "Epoch: 55,  Train loss: 0.00018968904623761773,  Val_loss: 0.0003589035477489233\n",
            "Epoch: 56,  Train loss: 0.00017730884428601712,  Val_loss: 0.0003369933401700109\n",
            "Epoch: 57,  Train loss: 0.00017552488134242594,  Val_loss: 0.0003340425610076636\n",
            "Epoch: 58,  Train loss: 0.00017933337949216366,  Val_loss: 0.00034115175367332995\n",
            "Epoch: 59,  Train loss: 0.00017900113016366959,  Val_loss: 0.00033668006653897464\n",
            "Epoch: 60,  Train loss: 0.00017524581926409155,  Val_loss: 0.0003334604552946985\n",
            "Epoch: 61,  Train loss: 0.00017530086915940046,  Val_loss: 0.00033221152261830866\n",
            "Epoch: 62,  Train loss: 0.00017477813526056707,  Val_loss: 0.00033223870559595525\n",
            "Epoch: 63,  Train loss: 0.00017342102364636958,  Val_loss: 0.000329922215314582\n",
            "Epoch: 64,  Train loss: 0.00017472337640356272,  Val_loss: 0.0003304902638774365\n",
            "Epoch: 65,  Train loss: 0.00017304190259892493,  Val_loss: 0.0003301551041658968\n",
            "Epoch: 66,  Train loss: 0.00017262055189348757,  Val_loss: 0.0003282798861619085\n",
            "Epoch: 67,  Train loss: 0.0001779062149580568,  Val_loss: 0.0003349588077981025\n",
            "Epoch: 68,  Train loss: 0.00017335607844870538,  Val_loss: 0.00032912511960603297\n",
            "Epoch: 69,  Train loss: 0.00017311460396740586,  Val_loss: 0.00032721812021918595\n",
            "Epoch: 70,  Train loss: 0.0001714357058517635,  Val_loss: 0.00032674422254785895\n",
            "Epoch: 71,  Train loss: 0.00017101065895985812,  Val_loss: 0.00032644715975038707\n",
            "Epoch: 72,  Train loss: 0.00017033716721925884,  Val_loss: 0.00032410360290668905\n",
            "Epoch: 73,  Train loss: 0.0001813399576349184,  Val_loss: 0.0003403004084248096\n",
            "Epoch: 74,  Train loss: 0.00017089051834773272,  Val_loss: 0.00032355813891626894\n",
            "Epoch: 75,  Train loss: 0.00017117640527430922,  Val_loss: 0.0003272336907684803\n",
            "Epoch: 76,  Train loss: 0.00016942733782343566,  Val_loss: 0.00032220283173955977\n",
            "Epoch: 77,  Train loss: 0.00016914591833483428,  Val_loss: 0.00032220801222138107\n",
            "Epoch: 78,  Train loss: 0.00016964675160124898,  Val_loss: 0.0003206038090866059\n",
            "Epoch: 79,  Train loss: 0.00016934622544795275,  Val_loss: 0.0003231496084481478\n",
            "Epoch: 80,  Train loss: 0.00016877707093954086,  Val_loss: 0.0003209688002243638\n",
            "Epoch: 81,  Train loss: 0.00016802507161628455,  Val_loss: 0.0003191115683875978\n",
            "Epoch: 82,  Train loss: 0.00017205024778377265,  Val_loss: 0.00032707623904570937\n",
            "Epoch: 83,  Train loss: 0.00016903485811781138,  Val_loss: 0.0003196217876393348\n",
            "Epoch: 84,  Train loss: 0.00016732900985516608,  Val_loss: 0.00032007694244384766\n",
            "Epoch: 85,  Train loss: 0.00016584301192779094,  Val_loss: 0.00031488295644521713\n",
            "Epoch: 86,  Train loss: 0.00016509904526174068,  Val_loss: 0.00031391787342727184\n",
            "Epoch: 87,  Train loss: 0.0001681778667261824,  Val_loss: 0.00032103355624713004\n",
            "Epoch: 88,  Train loss: 0.0001691683428362012,  Val_loss: 0.0003181939828209579\n",
            "Epoch: 89,  Train loss: 0.00016388278163503855,  Val_loss: 0.000312042044242844\n",
            "Epoch: 90,  Train loss: 0.00016951891302596778,  Val_loss: 0.0003191863070242107\n",
            "Epoch: 91,  Train loss: 0.00016319162386935204,  Val_loss: 0.0003106958174612373\n",
            "Epoch: 92,  Train loss: 0.00016297354886773974,  Val_loss: 0.00030986854108050466\n",
            "Epoch: 93,  Train loss: 0.0001636272791074589,  Val_loss: 0.00031440198654308915\n",
            "Epoch: 94,  Train loss: 0.00016210260218940675,  Val_loss: 0.00030965296900831163\n",
            "Epoch: 95,  Train loss: 0.0001621077099116519,  Val_loss: 0.00030748333665542305\n",
            "Epoch: 96,  Train loss: 0.00016177947691176087,  Val_loss: 0.0003065306809730828\n",
            "Epoch: 97,  Train loss: 0.00016462421626783907,  Val_loss: 0.0003154037403874099\n",
            "Epoch: 98,  Train loss: 0.00016096544277388602,  Val_loss: 0.0003086912038270384\n",
            "Epoch: 99,  Train loss: 0.00016405092901550233,  Val_loss: 0.000315671059070155\n"
          ]
        }
      ]
    },
    {
      "cell_type": "code",
      "source": [
        "# Plot training and validation losses:\n",
        "\n",
        "import matplotlib.pyplot as plt\n",
        "from torch import tensor\n",
        "\n",
        "plt.figure(1)\n",
        "plt.plot(tensor(T_loss).detach().numpy(), color='b', label='training loss')\n",
        "plt.plot(tensor(V_loss).cpu(), color='r', label='validation loss')\n",
        "plt.legend(loc='upper right')\n",
        "plt.grid()\n",
        "#plt.show()\n",
        "\n",
        "plt.figure(2)\n",
        "plt.plot(tensor(T_loss).detach().numpy(), color='b', label='training loss')\n",
        "plt.plot(tensor(V_loss).cpu(), color='r', label='validation loss')\n",
        "plt.ylim(0, 10**(-4))\n",
        "plt.legend(loc='upper right')\n",
        "plt.grid()\n",
        "plt.show()"
      ],
      "metadata": {
        "id": "_67U3FB5_4_x",
        "colab": {
          "base_uri": "https://localhost:8080/",
          "height": 517
        },
        "outputId": "a46ca334-00f2-4fc9-bbc4-6b6cdefaf9bc"
      },
      "execution_count": 159,
      "outputs": [
        {
          "output_type": "display_data",
          "data": {
            "text/plain": [
              "<Figure size 432x288 with 1 Axes>"
            ],
            "image/png": "[encoded data removed]"
          },
          "metadata": {
            "needs_background": "light"
          }
        },
        {
          "output_type": "display_data",
          "data": {
            "text/plain": [
              "<Figure size 432x288 with 1 Axes>"
            ],
            "image/png": "[encoded data removed]"
          },
          "metadata": {
            "needs_background": "light"
          }
        }
      ]
    },
    {
      "cell_type": "code",
      "source": [
        "# Test the model:\n",
        "\n",
        "my_device = \"cuda\" if torch.cuda.is_available() else \"cpu\"\n",
        "\n",
        "Real = []\n",
        "Predictions = []\n",
        "Error = []\n",
        "\n",
        "for i in range(len(test_dataset)):\n",
        "  \n",
        "  test = test_dataset[i]\n",
        "  y_test = test.y\n",
        "\n",
        " \n",
        " \n",
        "\n",
        "  Real.append(y_test)\n",
        "  #print(y_test)\n",
        "  \n",
        "  \n",
        "  preds = model(test.to(my_device))\n",
        "  Predictions.append(preds)\n",
        "  #print(preds)\n",
        "  \n",
        "for i in range(len(Predictions)):\n",
        "  rv = Real[i][0]\n",
        "  pv = Predictions[i][0] \n",
        "  # Σχετικό Σφάλμα:\n",
        "  err = np.abs((tensor(rv).cpu() - tensor(pv).cpu()) / tensor(rv).cpu())\n",
        "  Error.append(err)\n",
        "  print(f\"test mesh {i}: Real volume: {rv}   vs   Predicted volume: {pv}   vs  error: {err}\")"
      ],
      "metadata": {
        "id": "19eoTUpw_7Ld",
        "colab": {
          "base_uri": "https://localhost:8080/"
        },
        "outputId": "08225589-0378-4e0c-9f65-87c6d352ae1e"
      },
      "execution_count": 154,
      "outputs": [
        {
          "output_type": "stream",
          "name": "stdout",
          "text": [
            "test mesh 0: Real volume: 0.6855126619338989   vs   Predicted volume: 0.7356097102165222   vs  error: 0.0730796828866005\n",
            "test mesh 1: Real volume: 0.6045447587966919   vs   Predicted volume: 0.646233856678009   vs  error: 0.06895948946475983\n",
            "test mesh 2: Real volume: 0.8565224409103394   vs   Predicted volume: 0.8396413922309875   vs  error: 0.019708821550011635\n",
            "test mesh 3: Real volume: 0.4163176715373993   vs   Predicted volume: 0.5488206148147583   vs  error: 0.3182736337184906\n",
            "test mesh 4: Real volume: 0.5753839015960693   vs   Predicted volume: 0.7322152853012085   vs  error: 0.2725682556629181\n",
            "test mesh 5: Real volume: 0.9184892177581787   vs   Predicted volume: 0.7314672470092773   vs  error: 0.203619122505188\n",
            "test mesh 6: Real volume: 0.8012253642082214   vs   Predicted volume: 0.6097519993782043   vs  error: 0.2389756590127945\n",
            "test mesh 7: Real volume: 0.5905847549438477   vs   Predicted volume: 0.5829437971115112   vs  error: 0.012937952764332294\n",
            "test mesh 8: Real volume: 0.7334418892860413   vs   Predicted volume: 0.6259904503822327   vs  error: 0.1465030014514923\n",
            "test mesh 9: Real volume: 0.903443455696106   vs   Predicted volume: 0.8995252251625061   vs  error: 0.004336996003985405\n",
            "test mesh 10: Real volume: 0.46595317125320435   vs   Predicted volume: 0.5778715014457703   vs  error: 0.2401922345161438\n",
            "test mesh 11: Real volume: 0.5739879012107849   vs   Predicted volume: 0.6634892225265503   vs  error: 0.15592893958091736\n",
            "test mesh 12: Real volume: 0.5957034230232239   vs   Predicted volume: 0.681035578250885   vs  error: 0.14324603974819183\n",
            "test mesh 13: Real volume: 0.4602140486240387   vs   Predicted volume: 0.6884365081787109   vs  error: 0.4959050118923187\n",
            "test mesh 14: Real volume: 0.929424524307251   vs   Predicted volume: 0.7819738984107971   vs  error: 0.15864722430706024\n",
            "test mesh 15: Real volume: 0.5749185681343079   vs   Predicted volume: 0.5516307950019836   vs  error: 0.040506210178136826\n",
            "test mesh 16: Real volume: 0.789436936378479   vs   Predicted volume: 0.5780411958694458   vs  error: 0.2677803933620453\n",
            "test mesh 17: Real volume: 0.6984643936157227   vs   Predicted volume: 0.6720724105834961   vs  error: 0.03778572380542755\n",
            "test mesh 18: Real volume: 0.5810454487800598   vs   Predicted volume: 0.6352823376655579   vs  error: 0.09334362298250198\n",
            "test mesh 19: Real volume: 0.7184737324714661   vs   Predicted volume: 0.7562341690063477   vs  error: 0.052556462585926056\n",
            "test mesh 20: Real volume: 0.7183185815811157   vs   Predicted volume: 0.7726909518241882   vs  error: 0.07569395005702972\n",
            "test mesh 21: Real volume: 0.6674422025680542   vs   Predicted volume: 0.6183369755744934   vs  error: 0.07357225567102432\n",
            "test mesh 22: Real volume: 0.900961697101593   vs   Predicted volume: 0.773082971572876   vs  error: 0.1419358104467392\n",
            "test mesh 23: Real volume: 0.5456801652908325   vs   Predicted volume: 0.5341445803642273   vs  error: 0.021139828488230705\n",
            "test mesh 24: Real volume: 0.6890026330947876   vs   Predicted volume: 0.8025943636894226   vs  error: 0.16486400365829468\n",
            "test mesh 25: Real volume: 0.9875911474227905   vs   Predicted volume: 0.7337573766708374   vs  error: 0.2570231258869171\n",
            "test mesh 26: Real volume: 0.7688071727752686   vs   Predicted volume: 0.5771071314811707   vs  error: 0.24934735894203186\n",
            "test mesh 27: Real volume: 0.994803786277771   vs   Predicted volume: 0.757638156414032   vs  error: 0.23840442299842834\n",
            "test mesh 28: Real volume: 0.7201023697853088   vs   Predicted volume: 0.6001260876655579   vs  error: 0.16661003232002258\n",
            "test mesh 29: Real volume: 0.6084225177764893   vs   Predicted volume: 0.5427420139312744   vs  error: 0.10795212537050247\n",
            "test mesh 30: Real volume: 0.4381883144378662   vs   Predicted volume: 0.5568488240242004   vs  error: 0.2707979679107666\n",
            "test mesh 31: Real volume: 0.8021560311317444   vs   Predicted volume: 0.7213812470436096   vs  error: 0.1006971001625061\n",
            "test mesh 32: Real volume: 0.8455095291137695   vs   Predicted volume: 0.7525523900985718   vs  error: 0.10994215309619904\n",
            "test mesh 33: Real volume: 0.7297192215919495   vs   Predicted volume: 0.7130650281906128   vs  error: 0.02282274141907692\n",
            "test mesh 34: Real volume: 0.7206452488899231   vs   Predicted volume: 0.7117430567741394   vs  error: 0.012353084981441498\n",
            "test mesh 35: Real volume: 0.5297812819480896   vs   Predicted volume: 0.6919427514076233   vs  error: 0.3060913383960724\n",
            "test mesh 36: Real volume: 0.4244609773159027   vs   Predicted volume: 0.5786297917366028   vs  error: 0.3632107973098755\n",
            "test mesh 37: Real volume: 0.45780983567237854   vs   Predicted volume: 0.5816087126731873   vs  error: 0.2704155147075653\n",
            "test mesh 38: Real volume: 0.4491236209869385   vs   Predicted volume: 0.6124250888824463   vs  error: 0.3636002540588379\n",
            "test mesh 39: Real volume: 0.4947262406349182   vs   Predicted volume: 0.6638054847717285   vs  error: 0.3417632281780243\n",
            "test mesh 40: Real volume: 0.47045138478279114   vs   Predicted volume: 0.5554493069648743   vs  error: 0.18067312240600586\n",
            "test mesh 41: Real volume: 0.584613025188446   vs   Predicted volume: 0.6340162754058838   vs  error: 0.08450590074062347\n",
            "test mesh 42: Real volume: 0.7476345300674438   vs   Predicted volume: 0.6370353698730469   vs  error: 0.14793211221694946\n",
            "test mesh 43: Real volume: 0.7487203478813171   vs   Predicted volume: 0.6762910485267639   vs  error: 0.09673745185136795\n",
            "test mesh 44: Real volume: 0.7474018931388855   vs   Predicted volume: 0.8024812936782837   vs  error: 0.07369448989629745\n",
            "test mesh 45: Real volume: 0.5048859715461731   vs   Predicted volume: 0.5576717853546143   vs  error: 0.10454997420310974\n",
            "test mesh 46: Real volume: 0.7087017297744751   vs   Predicted volume: 0.5919859409332275   vs  error: 0.1646895706653595\n",
            "test mesh 47: Real volume: 0.6535598039627075   vs   Predicted volume: 0.643835723400116   vs  error: 0.01487863902002573\n",
            "test mesh 48: Real volume: 0.6497595906257629   vs   Predicted volume: 0.632515013217926   vs  error: 0.026539934799075127\n",
            "test mesh 49: Real volume: 0.883279025554657   vs   Predicted volume: 0.6430655121803284   vs  error: 0.27195653319358826\n",
            "test mesh 50: Real volume: 0.711183488368988   vs   Predicted volume: 0.7837567925453186   vs  error: 0.10204581916332245\n",
            "test mesh 51: Real volume: 0.608500063419342   vs   Predicted volume: 0.5984770655632019   vs  error: 0.01647164672613144\n",
            "test mesh 52: Real volume: 0.6592988967895508   vs   Predicted volume: 0.668001651763916   vs  error: 0.01320001482963562\n",
            "test mesh 53: Real volume: 0.8431053161621094   vs   Predicted volume: 0.7029287815093994   vs  error: 0.1662621945142746\n",
            "test mesh 54: Real volume: 0.5317977070808411   vs   Predicted volume: 0.5862869024276733   vs  error: 0.10246226191520691\n",
            "test mesh 55: Real volume: 0.527532160282135   vs   Predicted volume: 0.584332287311554   vs  error: 0.10767140239477158\n",
            "test mesh 56: Real volume: 0.5468434691429138   vs   Predicted volume: 0.7522937059402466   vs  error: 0.3757020831108093\n",
            "test mesh 57: Real volume: 0.7969598174095154   vs   Predicted volume: 0.6070521473884583   vs  error: 0.23829014599323273\n",
            "test mesh 58: Real volume: 0.7556227445602417   vs   Predicted volume: 0.6401623487472534   vs  error: 0.15280164778232574\n",
            "test mesh 59: Real volume: 0.6320769190788269   vs   Predicted volume: 0.7667877078056335   vs  error: 0.21312403678894043\n",
            "test mesh 60: Real volume: 0.7279354929924011   vs   Predicted volume: 0.6938411593437195   vs  error: 0.04683702439069748\n",
            "test mesh 61: Real volume: 0.7271599173545837   vs   Predicted volume: 0.6370763778686523   vs  error: 0.12388408184051514\n",
            "test mesh 62: Real volume: 0.6474329233169556   vs   Predicted volume: 0.6771852970123291   vs  error: 0.045954372733831406\n",
            "test mesh 63: Real volume: 0.7093221545219421   vs   Predicted volume: 0.7599843144416809   vs  error: 0.07142334431409836\n",
            "test mesh 64: Real volume: 0.647898256778717   vs   Predicted volume: 0.7648372054100037   vs  error: 0.1804896742105484\n",
            "test mesh 65: Real volume: 0.7480998635292053   vs   Predicted volume: 0.7096091508865356   vs  error: 0.05145130306482315\n",
            "test mesh 66: Real volume: 0.428648978471756   vs   Predicted volume: 0.5714886784553528   vs  error: 0.3332323431968689\n",
            "test mesh 67: Real volume: 0.484411358833313   vs   Predicted volume: 0.5962333679199219   vs  error: 0.2308410108089447\n",
            "test mesh 68: Real volume: 0.6033813953399658   vs   Predicted volume: 0.6902306079864502   vs  error: 0.14393749833106995\n",
            "test mesh 69: Real volume: 0.9233751893043518   vs   Predicted volume: 0.7150314450263977   vs  error: 0.22563281655311584\n",
            "test mesh 70: Real volume: 0.4419109523296356   vs   Predicted volume: 0.604536235332489   vs  error: 0.3680046498775482\n",
            "test mesh 71: Real volume: 0.6636419892311096   vs   Predicted volume: 0.6851572394371033   vs  error: 0.03241996467113495\n",
            "test mesh 72: Real volume: 0.44811540842056274   vs   Predicted volume: 0.7761923670768738   vs  error: 0.7321260571479797\n",
            "test mesh 73: Real volume: 0.6270358562469482   vs   Predicted volume: 0.7331098318099976   vs  error: 0.16916732490062714\n",
            "test mesh 74: Real volume: 0.9260896444320679   vs   Predicted volume: 0.8440988659858704   vs  error: 0.0885343849658966\n",
            "test mesh 75: Real volume: 0.5111680030822754   vs   Predicted volume: 0.6588055491447449   vs  error: 0.2888239324092865\n",
            "test mesh 76: Real volume: 0.8431828618049622   vs   Predicted volume: 0.5623353123664856   vs  error: 0.3330802321434021\n",
            "test mesh 77: Real volume: 0.5012409090995789   vs   Predicted volume: 0.6529179215431213   vs  error: 0.30260300636291504\n",
            "test mesh 78: Real volume: 0.40228012204170227   vs   Predicted volume: 0.624165952205658   vs  error: 0.551570475101471\n",
            "test mesh 79: Real volume: 0.5621219277381897   vs   Predicted volume: 0.5730039477348328   vs  error: 0.01935882493853569\n",
            "test mesh 80: Real volume: 0.9488133788108826   vs   Predicted volume: 0.7652862071990967   vs  error: 0.19342809915542603\n",
            "test mesh 81: Real volume: 0.4735535979270935   vs   Predicted volume: 0.6331998109817505   vs  error: 0.337123841047287\n",
            "test mesh 82: Real volume: 0.701721727848053   vs   Predicted volume: 0.6431900262832642   vs  error: 0.0834115594625473\n",
            "test mesh 83: Real volume: 0.9067783355712891   vs   Predicted volume: 0.6728941798210144   vs  error: 0.2579286992549896\n",
            "test mesh 84: Real volume: 0.8305413126945496   vs   Predicted volume: 0.7118093967437744   vs  error: 0.14295727014541626\n",
            "test mesh 85: Real volume: 0.6410733461380005   vs   Predicted volume: 0.6771944165229797   vs  error: 0.05634467676281929\n",
            "test mesh 86: Real volume: 0.8537304401397705   vs   Predicted volume: 0.8242966532707214   vs  error: 0.03447667509317398\n",
            "test mesh 87: Real volume: 0.4780518114566803   vs   Predicted volume: 0.6785159111022949   vs  error: 0.4193355143070221\n",
            "test mesh 88: Real volume: 0.9404374361038208   vs   Predicted volume: 0.6861673593521118   vs  error: 0.27037426829338074\n",
            "test mesh 89: Real volume: 0.5341243743896484   vs   Predicted volume: 0.5765653848648071   vs  error: 0.0794590413570404\n",
            "test mesh 90: Real volume: 0.6403753757476807   vs   Predicted volume: 0.7106536030769348   vs  error: 0.10974536091089249\n",
            "test mesh 91: Real volume: 0.5510314702987671   vs   Predicted volume: 0.5975857973098755   vs  error: 0.08448578417301178\n",
            "test mesh 92: Real volume: 0.40569257736206055   vs   Predicted volume: 0.5419360995292664   vs  error: 0.3358294665813446\n",
            "test mesh 93: Real volume: 0.5302466154098511   vs   Predicted volume: 0.647666871547699   vs  error: 0.22144460678100586\n",
            "test mesh 94: Real volume: 0.4837133586406708   vs   Predicted volume: 0.5795820951461792   vs  error: 0.1981932818889618\n",
            "test mesh 95: Real volume: 0.41802388429641724   vs   Predicted volume: 0.602429211139679   vs  error: 0.44113585352897644\n",
            "test mesh 96: Real volume: 0.8833565711975098   vs   Predicted volume: 0.5410518646240234   vs  error: 0.38750457763671875\n"
          ]
        },
        {
          "output_type": "stream",
          "name": "stderr",
          "text": [
            "/usr/local/lib/python3.7/dist-packages/ipykernel_launcher.py:29: UserWarning: To copy construct from a tensor, it is recommended to use sourceTensor.clone().detach() or sourceTensor.clone().detach().requires_grad_(True), rather than torch.tensor(sourceTensor).\n"
          ]
        }
      ]
    },
    {
      "cell_type": "code",
      "source": [
        "# Plot real values vs predictions:\n",
        "\n",
        "N = len(test_dataset)\n",
        "x = np.linspace(0, N, N)\n",
        "\n",
        "plt.figure(3)\n",
        "plt.scatter(x, tensor(Real).cpu(), color='m', marker='.', label='Real values')\n",
        "plt.scatter(x, tensor(Predictions).detach().numpy(), color='c', marker='x', label='Predicted values')\n",
        "plt.legend()\n",
        "plt.xlabel(\"Number of tests\")\n",
        "plt.ylabel(\"Real Values / Predictions\")\n",
        "plt.grid()\n",
        "#plt.show()\n",
        "\n",
        "plt.figure(4)\n",
        "plt.scatter(x, Error, color='g')\n",
        "plt.xlabel(\"Number of tests\")\n",
        "plt.ylabel(\"Error\")\n",
        "plt.grid()\n",
        "plt.show()"
      ],
      "metadata": {
        "id": "tvTxeucI_9r3",
        "colab": {
          "base_uri": "https://localhost:8080/",
          "height": 541
        },
        "outputId": "7771400f-c5a5-4b06-ce9a-4b5e8d3b9a84"
      },
      "execution_count": 160,
      "outputs": [
        {
          "output_type": "display_data",
          "data": {
            "text/plain": [
              "<Figure size 432x288 with 1 Axes>"
            ],
            "image/png": "[encoded data removed]"
          },
          "metadata": {
            "needs_background": "light"
          }
        },
        {
          "output_type": "display_data",
          "data": {
            "text/plain": [
              "<Figure size 432x288 with 1 Axes>"
            ],
            "image/png": "[encoded data removed]"
          },
          "metadata": {
            "needs_background": "light"
          }
        }
      ]
    }
  ]
}
